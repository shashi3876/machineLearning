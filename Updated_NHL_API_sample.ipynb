{
  "cells": [
    {
      "cell_type": "markdown",
      "metadata": {
        "id": "view-in-github",
        "colab_type": "text"
      },
      "source": [
        "<a href=\"https://colab.research.google.com/github/shashi3876/machineLearning/blob/main/Updated_NHL_API_sample.ipynb\" target=\"_parent\"><img src=\"https://colab.research.google.com/assets/colab-badge.svg\" alt=\"Open In Colab\"/></a>"
      ]
    },
    {
      "cell_type": "markdown",
      "metadata": {
        "id": "TYzF7QUTBkeT"
      },
      "source": [
        "## Get all available season IDs"
      ]
    },
    {
      "cell_type": "code",
      "execution_count": null,
      "metadata": {
        "colab": {
          "base_uri": "https://localhost:8080/"
        },
        "id": "OAZVVAbdBNGe",
        "outputId": "12088647-87ec-451c-99ef-8786562f184a"
      },
      "outputs": [
        {
          "output_type": "stream",
          "name": "stdout",
          "text": [
            "[19171918, 19181919, 19191920, 19201921, 19211922, 19221923, 19231924, 19241925, 19251926, 19261927, 19271928, 19281929, 19291930, 19301931, 19311932, 19321933, 19331934, 19341935, 19351936, 19361937, 19371938, 19381939, 19391940, 19401941, 19411942, 19421943, 19431944, 19441945, 19451946, 19461947, 19471948, 19481949, 19491950, 19501951, 19511952, 19521953, 19531954, 19541955, 19551956, 19561957, 19571958, 19581959, 19591960, 19601961, 19611962, 19621963, 19631964, 19641965, 19651966, 19661967, 19671968, 19681969, 19691970, 19701971, 19711972, 19721973, 19731974, 19741975, 19751976, 19761977, 19771978, 19781979, 19791980, 19801981, 19811982, 19821983, 19831984, 19841985, 19851986, 19861987, 19871988, 19881989, 19891990, 19901991, 19911992, 19921993, 19931994, 19941995, 19951996, 19961997, 19971998, 19981999, 19992000, 20002001, 20012002, 20022003, 20032004, 20052006, 20062007, 20072008, 20082009, 20092010, 20102011, 20112012, 20122013, 20132014, 20142015, 20152016, 20162017, 20172018, 20182019, 20192020, 20202021, 20212022, 20222023, 20232024]\n",
            "106\n"
          ]
        }
      ],
      "source": [
        "import requests\n",
        "\n",
        "res=requests.get('https://api-web.nhle.com/v1/standings-season')\n",
        "\n",
        "seasonIds=[]\n",
        "for seasonId in res.json()['seasons']:\n",
        "  seasonIds.append(seasonId['id'])\n",
        "print(seasonIds)\n",
        "print(len(seasonIds))"
      ]
    },
    {
      "cell_type": "markdown",
      "metadata": {
        "id": "l1ffEgs6xnnA"
      },
      "source": [
        "# Get all team codes"
      ]
    },
    {
      "cell_type": "code",
      "execution_count": null,
      "metadata": {
        "colab": {
          "base_uri": "https://localhost:8080/"
        },
        "id": "bUYWVSo6Xjx-",
        "outputId": "b777e4f1-8b59-487e-8647-c311dc4bb3f9"
      },
      "outputs": [
        {
          "output_type": "stream",
          "name": "stdout",
          "text": [
            "{'data': [{'id': 11, 'franchiseId': 35, 'fullName': 'Atlanta Thrashers', 'leagueId': 133, 'rawTricode': 'ATL', 'triCode': 'ATL'}, {'id': 34, 'franchiseId': 26, 'fullName': 'Hartford Whalers', 'leagueId': 133, 'rawTricode': 'HFD', 'triCode': 'HFD'}, {'id': 31, 'franchiseId': 15, 'fullName': 'Minnesota North Stars', 'leagueId': 133, 'rawTricode': 'MNS', 'triCode': 'MNS'}, {'id': 32, 'franchiseId': 27, 'fullName': 'Quebec Nordiques', 'leagueId': 133, 'rawTricode': 'QUE', 'triCode': 'QUE'}, {'id': 33, 'franchiseId': 28, 'fullName': 'Winnipeg Jets (1979)', 'leagueId': 133, 'rawTricode': 'WIN', 'triCode': 'WIN'}, {'id': 35, 'franchiseId': 23, 'fullName': 'Colorado Rockies', 'leagueId': 133, 'rawTricode': 'CLR', 'triCode': 'CLR'}, {'id': 36, 'franchiseId': 3, 'fullName': 'Ottawa Senators (1917)', 'leagueId': 133, 'rawTricode': 'SEN', 'triCode': 'SEN'}, {'id': 37, 'franchiseId': 4, 'fullName': 'Hamilton Tigers', 'leagueId': 133, 'rawTricode': 'HAM', 'triCode': 'HAM'}, {'id': 38, 'franchiseId': 9, 'fullName': 'Pittsburgh Pirates', 'leagueId': 133, 'rawTricode': 'PIR', 'triCode': 'PIR'}, {'id': 39, 'franchiseId': 9, 'fullName': 'Philadelphia Quakers', 'leagueId': 133, 'rawTricode': 'QUA', 'triCode': 'QUA'}, {'id': 40, 'franchiseId': 12, 'fullName': 'Detroit Cougars', 'leagueId': 133, 'rawTricode': 'DCG', 'triCode': 'DCG'}, {'id': 41, 'franchiseId': 2, 'fullName': 'Montreal Wanderers', 'leagueId': 133, 'rawTricode': 'MWN', 'triCode': 'MWN'}, {'id': 42, 'franchiseId': 4, 'fullName': 'Quebec Bulldogs', 'leagueId': 133, 'rawTricode': 'QBD', 'triCode': 'QBD'}, {'id': 43, 'franchiseId': 7, 'fullName': 'Montreal Maroons', 'leagueId': 133, 'rawTricode': 'MMR', 'triCode': 'MMR'}, {'id': 44, 'franchiseId': 8, 'fullName': 'New York Americans', 'leagueId': 133, 'rawTricode': 'NYA', 'triCode': 'NYA'}, {'id': 45, 'franchiseId': 3, 'fullName': 'St. Louis Eagles', 'leagueId': 133, 'rawTricode': 'SLE', 'triCode': 'SLE'}, {'id': 46, 'franchiseId': 13, 'fullName': 'Oakland Seals', 'leagueId': 133, 'rawTricode': 'OAK', 'triCode': 'OAK'}, {'id': 47, 'franchiseId': 21, 'fullName': 'Atlanta Flames', 'leagueId': 133, 'rawTricode': 'AFM', 'triCode': 'AFM'}, {'id': 48, 'franchiseId': 23, 'fullName': 'Kansas City Scouts', 'leagueId': 133, 'rawTricode': 'KCS', 'triCode': 'KCS'}, {'id': 49, 'franchiseId': 13, 'fullName': 'Cleveland Barons', 'leagueId': 133, 'rawTricode': 'CLE', 'triCode': 'CLE'}, {'id': 50, 'franchiseId': 12, 'fullName': 'Detroit Falcons', 'leagueId': 133, 'rawTricode': 'DFL', 'triCode': 'DFL'}, {'id': 51, 'franchiseId': 8, 'fullName': 'Brooklyn Americans', 'leagueId': 133, 'rawTricode': 'BRK', 'triCode': 'BRK'}, {'id': 1, 'franchiseId': 23, 'fullName': 'New Jersey Devils', 'leagueId': 133, 'rawTricode': 'NJD', 'triCode': 'NJD'}, {'id': 56, 'franchiseId': 13, 'fullName': 'California Golden Seals', 'leagueId': 133, 'rawTricode': 'CGS', 'triCode': 'CGS'}, {'id': 57, 'franchiseId': 5, 'fullName': 'Toronto Arenas', 'leagueId': 133, 'rawTricode': 'TAN', 'triCode': 'TAN'}, {'id': 58, 'franchiseId': 5, 'fullName': 'Toronto St. Patricks', 'leagueId': 133, 'rawTricode': 'TSP', 'triCode': 'TSP'}, {'id': 99, 'franchiseId': None, 'fullName': 'NHL', 'leagueId': 133, 'rawTricode': 'NHL', 'triCode': 'NHL'}, {'id': 17, 'franchiseId': 12, 'fullName': 'Detroit Red Wings', 'leagueId': 133, 'rawTricode': 'DET', 'triCode': 'DET'}, {'id': 6, 'franchiseId': 6, 'fullName': 'Boston Bruins', 'leagueId': 133, 'rawTricode': 'BOS', 'triCode': 'BOS'}, {'id': 52, 'franchiseId': 35, 'fullName': 'Winnipeg Jets', 'leagueId': 133, 'rawTricode': 'WPG', 'triCode': 'WPG'}, {'id': 28, 'franchiseId': 29, 'fullName': 'San Jose Sharks', 'leagueId': 133, 'rawTricode': 'SJS', 'triCode': 'SJS'}, {'id': 5, 'franchiseId': 17, 'fullName': 'Pittsburgh Penguins', 'leagueId': 133, 'rawTricode': 'PIT', 'triCode': 'PIT'}, {'id': 14, 'franchiseId': 31, 'fullName': 'Tampa Bay Lightning', 'leagueId': 133, 'rawTricode': 'TBL', 'triCode': 'TBL'}, {'id': 4, 'franchiseId': 16, 'fullName': 'Philadelphia Flyers', 'leagueId': 133, 'rawTricode': 'PHI', 'triCode': 'PHI'}, {'id': 10, 'franchiseId': 5, 'fullName': 'Toronto Maple Leafs', 'leagueId': 133, 'rawTricode': 'TOR', 'triCode': 'TOR'}, {'id': 7, 'franchiseId': 19, 'fullName': 'Buffalo Sabres', 'leagueId': 133, 'rawTricode': 'BUF', 'triCode': 'BUF'}, {'id': 12, 'franchiseId': 26, 'fullName': 'Carolina Hurricanes', 'leagueId': 133, 'rawTricode': 'CAR', 'triCode': 'CAR'}, {'id': 53, 'franchiseId': 28, 'fullName': 'Arizona Coyotes', 'leagueId': 133, 'rawTricode': 'ARI', 'triCode': 'ARI'}, {'id': 20, 'franchiseId': 21, 'fullName': 'Calgary Flames', 'leagueId': 133, 'rawTricode': 'CGY', 'triCode': 'CGY'}, {'id': 8, 'franchiseId': 1, 'fullName': 'Montréal Canadiens', 'leagueId': 133, 'rawTricode': 'MTL', 'triCode': 'MTL'}, {'id': 15, 'franchiseId': 24, 'fullName': 'Washington Capitals', 'leagueId': 133, 'rawTricode': 'WSH', 'triCode': 'WSH'}, {'id': 26, 'franchiseId': 14, 'fullName': 'Los Angeles Kings', 'leagueId': 133, 'rawTricode': 'LAK', 'triCode': 'LAK'}, {'id': 23, 'franchiseId': 20, 'fullName': 'Vancouver Canucks', 'leagueId': 133, 'rawTricode': 'VAN', 'triCode': 'VAN'}, {'id': 21, 'franchiseId': 27, 'fullName': 'Colorado Avalanche', 'leagueId': 133, 'rawTricode': 'COL', 'triCode': 'COL'}, {'id': 18, 'franchiseId': 34, 'fullName': 'Nashville Predators', 'leagueId': 133, 'rawTricode': 'NSH', 'triCode': 'NSH'}, {'id': 24, 'franchiseId': 32, 'fullName': 'Anaheim Ducks', 'leagueId': 133, 'rawTricode': 'ANA', 'triCode': 'ANA'}, {'id': 54, 'franchiseId': 38, 'fullName': 'Vegas Golden Knights', 'leagueId': 133, 'rawTricode': 'VGK', 'triCode': 'VGK'}, {'id': 2, 'franchiseId': 22, 'fullName': 'New York Islanders', 'leagueId': 133, 'rawTricode': 'NYI', 'triCode': 'NYI'}, {'id': 55, 'franchiseId': 39, 'fullName': 'Seattle Kraken', 'leagueId': 133, 'rawTricode': 'SEA', 'triCode': 'SEA'}, {'id': 25, 'franchiseId': 15, 'fullName': 'Dallas Stars', 'leagueId': 133, 'rawTricode': 'DAL', 'triCode': 'DAL'}, {'id': 27, 'franchiseId': 28, 'fullName': 'Phoenix Coyotes', 'leagueId': 133, 'rawTricode': 'PHX', 'triCode': 'PHX'}, {'id': 16, 'franchiseId': 11, 'fullName': 'Chicago Blackhawks', 'leagueId': 133, 'rawTricode': 'CHI', 'triCode': 'CHI'}, {'id': 3, 'franchiseId': 10, 'fullName': 'New York Rangers', 'leagueId': 133, 'rawTricode': 'NYR', 'triCode': 'NYR'}, {'id': 29, 'franchiseId': 36, 'fullName': 'Columbus Blue Jackets', 'leagueId': 133, 'rawTricode': 'CBJ', 'triCode': 'CBJ'}, {'id': 13, 'franchiseId': 33, 'fullName': 'Florida Panthers', 'leagueId': 133, 'rawTricode': 'FLA', 'triCode': 'FLA'}, {'id': 22, 'franchiseId': 25, 'fullName': 'Edmonton Oilers', 'leagueId': 133, 'rawTricode': 'EDM', 'triCode': 'EDM'}, {'id': 30, 'franchiseId': 37, 'fullName': 'Minnesota Wild', 'leagueId': 133, 'rawTricode': 'MIN', 'triCode': 'MIN'}, {'id': 19, 'franchiseId': 18, 'fullName': 'St. Louis Blues', 'leagueId': 133, 'rawTricode': 'STL', 'triCode': 'STL'}, {'id': 9, 'franchiseId': 30, 'fullName': 'Ottawa Senators', 'leagueId': 133, 'rawTricode': 'OTT', 'triCode': 'OTT'}], 'total': 59}\n",
            "[('ATL', 35, 'Atlanta Thrashers'), ('HFD', 26, 'Hartford Whalers'), ('MNS', 15, 'Minnesota North Stars'), ('QUE', 27, 'Quebec Nordiques'), ('WIN', 28, 'Winnipeg Jets (1979)'), ('CLR', 23, 'Colorado Rockies'), ('SEN', 3, 'Ottawa Senators (1917)'), ('HAM', 4, 'Hamilton Tigers'), ('PIR', 9, 'Pittsburgh Pirates'), ('QUA', 9, 'Philadelphia Quakers'), ('DCG', 12, 'Detroit Cougars'), ('MWN', 2, 'Montreal Wanderers'), ('QBD', 4, 'Quebec Bulldogs'), ('MMR', 7, 'Montreal Maroons'), ('NYA', 8, 'New York Americans'), ('SLE', 3, 'St. Louis Eagles'), ('OAK', 13, 'Oakland Seals'), ('AFM', 21, 'Atlanta Flames'), ('KCS', 23, 'Kansas City Scouts'), ('CLE', 13, 'Cleveland Barons'), ('DFL', 12, 'Detroit Falcons'), ('BRK', 8, 'Brooklyn Americans'), ('NJD', 23, 'New Jersey Devils'), ('CGS', 13, 'California Golden Seals'), ('TAN', 5, 'Toronto Arenas'), ('TSP', 5, 'Toronto St. Patricks'), ('NHL', None, 'NHL'), ('DET', 12, 'Detroit Red Wings'), ('BOS', 6, 'Boston Bruins'), ('WPG', 35, 'Winnipeg Jets'), ('SJS', 29, 'San Jose Sharks'), ('PIT', 17, 'Pittsburgh Penguins'), ('TBL', 31, 'Tampa Bay Lightning'), ('PHI', 16, 'Philadelphia Flyers'), ('TOR', 5, 'Toronto Maple Leafs'), ('BUF', 19, 'Buffalo Sabres'), ('CAR', 26, 'Carolina Hurricanes'), ('ARI', 28, 'Arizona Coyotes'), ('CGY', 21, 'Calgary Flames'), ('MTL', 1, 'Montréal Canadiens'), ('WSH', 24, 'Washington Capitals'), ('LAK', 14, 'Los Angeles Kings'), ('VAN', 20, 'Vancouver Canucks'), ('COL', 27, 'Colorado Avalanche'), ('NSH', 34, 'Nashville Predators'), ('ANA', 32, 'Anaheim Ducks'), ('VGK', 38, 'Vegas Golden Knights'), ('NYI', 22, 'New York Islanders'), ('SEA', 39, 'Seattle Kraken'), ('DAL', 15, 'Dallas Stars'), ('PHX', 28, 'Phoenix Coyotes'), ('CHI', 11, 'Chicago Blackhawks'), ('NYR', 10, 'New York Rangers'), ('CBJ', 36, 'Columbus Blue Jackets'), ('FLA', 33, 'Florida Panthers'), ('EDM', 25, 'Edmonton Oilers'), ('MIN', 37, 'Minnesota Wild'), ('STL', 18, 'St. Louis Blues'), ('OTT', 30, 'Ottawa Senators')]\n",
            "{'ATL': 'Atlanta Thrashers', 'HFD': 'Hartford Whalers', 'MNS': 'Minnesota North Stars', 'QUE': 'Quebec Nordiques', 'WIN': 'Winnipeg Jets (1979)', 'CLR': 'Colorado Rockies', 'SEN': 'Ottawa Senators (1917)', 'HAM': 'Hamilton Tigers', 'PIR': 'Pittsburgh Pirates', 'QUA': 'Philadelphia Quakers', 'DCG': 'Detroit Cougars', 'MWN': 'Montreal Wanderers', 'QBD': 'Quebec Bulldogs', 'MMR': 'Montreal Maroons', 'NYA': 'New York Americans', 'SLE': 'St. Louis Eagles', 'OAK': 'Oakland Seals', 'AFM': 'Atlanta Flames', 'KCS': 'Kansas City Scouts', 'CLE': 'Cleveland Barons', 'DFL': 'Detroit Falcons', 'BRK': 'Brooklyn Americans', 'NJD': 'New Jersey Devils', 'CGS': 'California Golden Seals', 'TAN': 'Toronto Arenas', 'TSP': 'Toronto St. Patricks', 'NHL': 'NHL', 'DET': 'Detroit Red Wings', 'BOS': 'Boston Bruins', 'WPG': 'Winnipeg Jets', 'SJS': 'San Jose Sharks', 'PIT': 'Pittsburgh Penguins', 'TBL': 'Tampa Bay Lightning', 'PHI': 'Philadelphia Flyers', 'TOR': 'Toronto Maple Leafs', 'BUF': 'Buffalo Sabres', 'CAR': 'Carolina Hurricanes', 'ARI': 'Arizona Coyotes', 'CGY': 'Calgary Flames', 'MTL': 'Montréal Canadiens', 'WSH': 'Washington Capitals', 'LAK': 'Los Angeles Kings', 'VAN': 'Vancouver Canucks', 'COL': 'Colorado Avalanche', 'NSH': 'Nashville Predators', 'ANA': 'Anaheim Ducks', 'VGK': 'Vegas Golden Knights', 'NYI': 'New York Islanders', 'SEA': 'Seattle Kraken', 'DAL': 'Dallas Stars', 'PHX': 'Phoenix Coyotes', 'CHI': 'Chicago Blackhawks', 'NYR': 'New York Rangers', 'CBJ': 'Columbus Blue Jackets', 'FLA': 'Florida Panthers', 'EDM': 'Edmonton Oilers', 'MIN': 'Minnesota Wild', 'STL': 'St. Louis Blues', 'OTT': 'Ottawa Senators'}\n",
            "59\n"
          ]
        }
      ],
      "source": [
        "res=requests.get('https://api.nhle.com/stats/rest/en/team')\n",
        "teamId=[]\n",
        "teamDict={}\n",
        "for team in res.json()['data']:\n",
        "  teamId.append((team['rawTricode'],team['franchiseId'],team['fullName']))\n",
        "  teamDict[team['rawTricode']]=team['fullName']\n",
        "print(res.json())\n",
        "print(teamId)\n",
        "print(teamDict)\n",
        "print(len(teamId))"
      ]
    },
    {
      "cell_type": "markdown",
      "metadata": {
        "id": "TTb7jHStyQFI"
      },
      "source": [
        "# Get Roaster for each year"
      ]
    },
    {
      "cell_type": "code",
      "execution_count": null,
      "metadata": {
        "colab": {
          "base_uri": "https://localhost:8080/"
        },
        "id": "wik30ql_yMdY",
        "outputId": "1437b196-03fb-45af-c2b2-b9c27928ccc0"
      },
      "outputs": [
        {
          "output_type": "stream",
          "name": "stdout",
          "text": [
            "      Team Position FirstName   LastName       ID\n",
            "0      ATL        L     Bryan      Adams  8467867\n",
            "1      ATL        R    Donald    Audette  8445176\n",
            "2      ATL        L      Eric   Bertrand  8460014\n",
            "3      ATL        L     Jason  Botterill  8460510\n",
            "4      ATL        L    Andrew   Brunette  8459596\n",
            "...    ...      ...       ...        ...      ...\n",
            "54882  OTT        D      Jake  Sanderson  8482105\n",
            "54883  OTT        D     Artem        Zub  8482245\n",
            "54884  OTT        G     Anton   Forsberg  8476341\n",
            "54885  OTT        G    Joonas  Korpisalo  8476914\n",
            "54886  OTT        G      Mads    Sogaard  8481544\n",
            "\n",
            "[54887 rows x 5 columns]\n"
          ]
        }
      ],
      "source": [
        "import pandas as pd\n",
        "player_data = []\n",
        "\n",
        "for team in teamDict.keys():\n",
        "    for season in seasonIds:\n",
        "        url = f'https://api-web.nhle.com/v1/roster/{team}/{season}'\n",
        "        res = requests.get(url)\n",
        "\n",
        "        if res.status_code == 200:\n",
        "            #print(f'Got for team {team} for season {season}')\n",
        "            roster_data = res.json()\n",
        "\n",
        "            for position in ['forwards', 'defensemen', 'goalies']:\n",
        "                for player in roster_data[position]:\n",
        "                    player_info = {\n",
        "                        'Team': team,\n",
        "                        'Position': player['positionCode'],\n",
        "                        'FirstName': player['firstName']['default'],\n",
        "                        'LastName': player['lastName']['default'],\n",
        "                        'ID': player['id']\n",
        "                    }\n",
        "                    player_data.append(player_info)\n",
        "\n",
        "# Create a DataFrame from the list of player data\n",
        "df = pd.DataFrame(player_data)\n",
        "\n",
        "# Display the DataFrame\n",
        "print(df)"
      ]
    },
    {
      "cell_type": "code",
      "execution_count": null,
      "metadata": {
        "colab": {
          "base_uri": "https://localhost:8080/"
        },
        "id": "7BTZkxL-yGbI",
        "outputId": "e66a2214-1424-4103-e3c7-4b9928de60ae"
      },
      "outputs": [
        {
          "output_type": "stream",
          "name": "stdout",
          "text": [
            "           ID FirstName     LastName       Teams Positions  NumTeams\n",
            "0     8444850     Henry       Harris       [BOS]       [R]         1\n",
            "1     8444851    Gordon       Spence       [TSP]       [L]         1\n",
            "2     8444852       Ron       Hudson       [DET]       [C]         1\n",
            "3     8444853      Norm      Johnson  [CHI, BOS]       [C]         2\n",
            "4     8444854       Reg       Abbott       [MTL]       [C]         1\n",
            "...       ...       ...          ...         ...       ...       ...\n",
            "8464  8484255     Jason        Polin       [COL]       [R]         1\n",
            "8465  8484256      Jake  Livingstone       [NSH]       [D]         1\n",
            "8466  8484258       Sam     Malinski       [COL]       [D]         1\n",
            "8467  8484287      Cole       McWard       [VAN]       [D]         1\n",
            "8468  8484293     Yaniv       Perets       [CAR]       [G]         1\n",
            "\n",
            "[8469 rows x 6 columns]\n"
          ]
        }
      ],
      "source": [
        "# Group by player ID and aggregate\n",
        "agg_df = df.groupby('ID').agg({\n",
        "    'FirstName': 'first',\n",
        "    'LastName': 'first',\n",
        "    'Team': lambda x: list(set(x)),  # Use a set to remove duplicates and then convert to a list\n",
        "    'Position': lambda x: list(set(x)),  # Use a set to remove duplicates and then convert to a list\n",
        "}).reset_index()\n",
        "\n",
        "# Rename the columns for clarity\n",
        "agg_df.columns = ['ID', 'FirstName', 'LastName', 'Teams', 'Positions']\n",
        "\n",
        "# Calculate the number of teams for each player\n",
        "agg_df['NumTeams'] = agg_df['Teams'].apply(lambda x: len(x))\n",
        "\n",
        "\n",
        "# Display the aggregated DataFrame\n",
        "print(agg_df)\n"
      ]
    },
    {
      "cell_type": "code",
      "execution_count": null,
      "metadata": {
        "colab": {
          "base_uri": "https://localhost:8080/"
        },
        "id": "rJLa_GFgfnSH",
        "outputId": "7de6ac1f-70d2-4c0c-ab74-7b238f4f36e7"
      },
      "outputs": [
        {
          "output_type": "stream",
          "name": "stdout",
          "text": [
            "      FirstName    LastName  Count                       IDList\n",
            "5826      Mikko    Lehtonen      3  [8469714, 8471747, 8482247]\n",
            "4219       John       Adams      2           [8444862, 8449783]\n",
            "4947        Leo       Reise      2           [8448315, 8448317]\n",
            "2218      Derek       Smith      2           [8451513, 8473953]\n",
            "4002        Jim     Johnson      2           [8447099, 8448303]\n",
            "2030       Dave        Reid      2           [8448307, 8450773]\n",
            "7142       Ryan     Johnson      2           [8460527, 8481564]\n",
            "7011        Ron    Anderson      2           [8444928, 8444929]\n",
            "7673     Taylor        Hall      2           [8447463, 8475791]\n",
            "1160      Brian       Smith      2           [8449061, 8449063]\n",
            "5699       Mike       Green      2           [8468436, 8471242]\n",
            "5706       Mike     Hoffman      2           [8447917, 8474884]\n",
            "1628      Colin       White      2           [8465005, 8478400]\n",
            "4140        Joe       Matte      2           [8447637, 8447638]\n",
            "233   Alexandre      Picard      2           [8470678, 8471221]\n",
            "6885        Rob      Palmer      2           [8448082, 8450135]\n",
            "849         Bob      Murray      2           [8447925, 8449769]\n",
            "848         Bob     Murdoch      2           [8449736, 8449737]\n",
            "6354       Paul    Thompson      2           [8449232, 8476200]\n",
            "2071      David      Jensen      2           [8448272, 8448274]\n",
            "1881     Daniil     Tarasov      2           [8476549, 8480193]\n",
            "104       Alain        Cote      2           [8446177, 8446178]\n",
            "4322       John     Stewart      2           [8449185, 8451720]\n",
            "724       Billy      Harris      2           [8446707, 8447658]\n",
            "3518       Jack      McGill      2           [8447773, 8447777]\n",
            "1222      Bryan     Hextall      2           [8446846, 8446850]\n",
            "3306     Harvey     Bennett      2           [8445056, 8449819]\n",
            "4068      Jimmy      Peters      2           [8448136, 8448137]\n",
            "2504       Earl  Ingarfield      2           [8447016, 8448144]\n",
            "4632        Ken       Hodge      2           [8447891, 8447892]\n"
          ]
        }
      ],
      "source": [
        "# Group by first and last name, aggregate ID as a list, and count\n",
        "agg_df_2 = agg_df.groupby(['FirstName', 'LastName']).agg({'ID': ['count', list]}).reset_index()\n",
        "\n",
        "# Rename the columns for clarity\n",
        "agg_df_2.columns = ['FirstName', 'LastName', 'Count', 'IDList']\n",
        "\n",
        "# Sort the DataFrame by the Count column in decreasing order\n",
        "agg_df_2 = agg_df_2.sort_values(by='Count', ascending=False)\n",
        "\n",
        "# Display the resulting DataFrame\n",
        "print(agg_df_2.head(30))"
      ]
    },
    {
      "cell_type": "code",
      "execution_count": null,
      "metadata": {
        "id": "p0x-4_pHGiVL",
        "colab": {
          "base_uri": "https://localhost:8080/"
        },
        "outputId": "4d6886a1-c7cc-4c4c-ddb7-290312e6de5a"
      },
      "outputs": [
        {
          "output_type": "stream",
          "name": "stdout",
          "text": [
            "         FullName  NumTeams                                                        Teams\n",
            "   Mike Sillinger        12 [DET, VAN, CBJ, TBL, ANA, PHX, OTT, NYI, STL, FLA, PHI, NSH]\n",
            "  J.J. Daigneault        10           [PIT, VAN, MTL, ANA, PHX, NYI, STL, PHI, NSH, MIN]\n",
            "    Lee Stempniak        10           [PIT, NJD, CAR, NYR, WPG, PHX, CGY, TOR, STL, BOS]\n",
            "  Derick Brassard        10           [ARI, PIT, CBJ, EDM, NYR, NYI, FLA, PHI, OTT, COL]\n",
            "         Jim Dowd        10           [MIN, NJD, VAN, CHI, CGY, NYI, EDM, PHI, MTL, COL]\n",
            "    Dominic Moore        10           [BUF, PIT, TBL, SJS, NYR, TOR, FLA, MTL, MIN, BOS]\n",
            "Mathieu Schneider        10           [DET, ATL, LAK, VAN, ANA, NYR, PHX, TOR, NYI, MTL]\n",
            "     Olli Jokinen        10           [LAK, NYR, WPG, PHX, CGY, TOR, NYI, STL, FLA, NSH]\n",
            "     Michel Petit        10           [LAK, VAN, TBL, NYR, PHX, CGY, QUE, TOR, EDM, PHI]\n",
            "       Tony Hrkac         9                [CHI, ATL, DAL, SJS, ANA, QUE, NYI, STL, EDM]\n",
            "       Sean Burke         9                [HFD, NJD, LAK, CAR, VAN, TBL, PHX, FLA, PHI]\n",
            "     Reid Simpson         9                [PIT, NJD, CHI, NSH, MNS, TBL, STL, PHI, MTL]\n",
            "     Jim McKenzie         9                [HFD, PIT, NJD, DAL, ANA, PHX, WIN, WSH, NSH]\n",
            "      Paul Coffey         9                [HFD, PIT, CHI, DET, CAR, LAK, EDM, PHI, BOS]\n",
            "     Bobby Dollas         9                [PIT, DET, SJS, ANA, WIN, QUE, CGY, EDM, OTT]\n",
            "     Brent Ashton         9                [NJD, DET, VAN, MNS, WIN, QUE, CGY, CLR, BOS]\n",
            "     Kevin Miller         9                [PIT, CHI, DET, SJS, NYR, WSH, NYI, STL, OTT]\n",
            "    Nate Thompson         9                [LAK, TBL, ANA, WPG, OTT, NYI, PHI, MTL, BOS]\n",
            "     Jaromir Jagr         9                [PIT, NJD, DAL, NYR, CGY, WSH, FLA, PHI, BOS]\n",
            "    Grant Ledyard         9                [BUF, LAK, VAN, DAL, TBL, NYR, WSH, OTT, BOS]\n",
            "      Jim Cummins         9                [CHI, DET, TBL, ANA, PHX, NYI, PHI, MTL, COL]\n",
            "    Dean McAmmond         9                [NJD, CHI, CGY, NYI, STL, EDM, PHI, OTT, COL]\n",
            "        Carl Voss         9                [SEN, CHI, DET, NYR, SLE, MMR, TOR, TSP, NYA]\n",
            "    Jussi Jokinen         9                [PIT, LAK, CAR, VAN, DAL, TBL, CBJ, FLA, EDM]\n",
            " Randy Robitaille         9                [PIT, LAK, ATL, OTT, NYI, PHI, NSH, MIN, BOS]\n",
            "  Bryan Marchment         9                [HFD, CHI, SJS, TBL, WIN, CGY, TOR, EDM, COL]\n",
            "        Alex Auld         8                     [VAN, DAL, NYR, PHX, OTT, FLA, MTL, BOS]\n",
            "     Chad Johnson         8                     [BUF, ANA, NYR, PHX, CGY, NYI, STL, BOS]\n",
            "Curtis McElhinney         8                     [CAR, CBJ, TBL, ANA, PHX, CGY, TOR, OTT]\n",
            "      Jeff Norton         8                     [PIT, TBL, SJS, NYI, STL, FLA, EDM, BOS]\n"
          ]
        }
      ],
      "source": [
        "# Create a new column for full name\n",
        "agg_df['FullName'] = agg_df['FirstName'] + ' ' + agg_df['LastName']\n",
        "\n",
        "# Select the relevant columns\n",
        "result_df = agg_df[['FullName', 'NumTeams', 'Teams']]\n",
        "\n",
        "# Sort the DataFrame by the number of teams\n",
        "sorted_df = result_df.sort_values(by='NumTeams', ascending=False)\n",
        "\n",
        "# Display the sorted DataFrame\n",
        "print(sorted_df.head(30).to_string(index=False))"
      ]
    },
    {
      "cell_type": "code",
      "source": [],
      "metadata": {
        "id": "RM0DTCFi_Zj9"
      },
      "execution_count": null,
      "outputs": []
    }
  ],
  "metadata": {
    "colab": {
      "provenance": [],
      "authorship_tag": "ABX9TyNplSnD64oyJLFt7rmgkeid",
      "include_colab_link": true
    },
    "kernelspec": {
      "display_name": "Python 3",
      "name": "python3"
    },
    "language_info": {
      "name": "python"
    }
  },
  "nbformat": 4,
  "nbformat_minor": 0
}